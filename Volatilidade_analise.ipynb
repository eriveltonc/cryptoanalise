{
 "cells": [
  {
   "cell_type": "code",
   "execution_count": 1,
   "id": "04c08699",
   "metadata": {},
   "outputs": [],
   "source": [
    "api_key = \"INSIRA SUA API KEY DA BINANCE AQUI\"\n",
    "secret_key = \"INSIRA SUA SECRETY KEY DA BINANCE AQUI\""
   ]
  },
  {
   "cell_type": "code",
   "execution_count": 2,
   "id": "edcf3e56",
   "metadata": {
    "scrolled": true
   },
   "outputs": [],
   "source": [
    "import pandas as pd\n",
    "import matplotlib.pyplot as plt\n",
    "import numpy as np\n",
    "from binance.client import Client\n",
    "from functools import reduce\n",
    "from sklearn.cluster import KMeans\n",
    "import talib\n",
    "import yfinance  as yf\n",
    "import plotly.graph_objects as go"
   ]
  },
  {
   "cell_type": "code",
   "execution_count": 3,
   "id": "2ac85f8f",
   "metadata": {},
   "outputs": [],
   "source": [
    "client = Client(api_key=api_key, api_secret = secret_key, tld = \"com\")"
   ]
  },
  {
   "cell_type": "code",
   "execution_count": 4,
   "id": "54e351fb",
   "metadata": {},
   "outputs": [],
   "source": [
    "#Obtendo todos os pares USDT disponíveis\n",
    "prices = pd.DataFrame(client.get_all_tickers())\n",
    "prices = prices[prices.symbol.str.contains(\"USDT\")]\n",
    "#prices = prices[:20]\n",
    "symbolcoins = prices['symbol'].tolist()\n"
   ]
  },
  {
   "cell_type": "code",
   "execution_count": null,
   "id": "6c2ca347",
   "metadata": {},
   "outputs": [],
   "source": [
    "listadf = []\n",
    "adj_lista = []\n",
    "adj_volatility = []\n",
    "for symbol in symbolcoins:\n",
    "    ###Esse Loop interage com API para retornar dados históricos (200 dias)\n",
    "     ## de todos os pares USDT disponíveis na Binance e retorna dois dataframes\n",
    "\n",
    "    klines = client.get_historical_klines(symbol, Client.KLINE_INTERVAL_1DAY, \"200 day ago UTC\")\n",
    "  \n",
    "    timestamp = client._get_earliest_valid_timestamp(symbol = symbol, interval = \"1d\")\n",
    "    pd.to_datetime(timestamp, unit = \"ms\")\n",
    "    df = pd.DataFrame(klines)\n",
    "    #Filtrando inconsistências\n",
    "    if len(df.columns) > 13 or len(df.columns) < 5:\n",
    "          continue\n",
    "    \n",
    "    df[\"Date\"] = pd.to_datetime(df.iloc[:,0], unit = \"ms\")\n",
    "    df.columns = [\"Open Time\", \"Open\", \"High\", \"Low\", \"Close\",\n",
    "                  \"Volume\", \"Clos Time\", \"Quote Asset Volume\", \"Number of Trade\",\n",
    "                  \"Taker Buy Base Asset Volume\", \"Taker Buy Quote Asset Volume\", \"Ignore\", \"Date\"]\n",
    "    data = df[[\"Date\", \"Close\", \"Volume\"]].set_index(\"Date\")\n",
    "    for column in data.columns: data[column] = pd.to_numeric(data[column], errors = \"coerce\")\n",
    "    \n",
    "    data['Volume'] = data['Volume'] *  data['Close'] #Volume em USD\n",
    "     \n",
    "    data[f\"vol_ch_{symbol}\"] = np.log(data.Volume.div(data.Volume.shift(1))) #Calculando diferença de Volume d-1\n",
    "    data[\"price_ch\"] = (data['Close'] - data['Close'].shift(1)) / data['Close'].shift(1) #Calculando diferença de preço d-1\n",
    "    adj_volatility.append(str(symbol))\n",
    "    #Calculando desvio padrão 30 períodos\n",
    "    data['std30'] = data['price_ch'].rolling(30, min_periods=1).std()*(30**.5)\n",
    "    adj_volatility.append(data['std30'].iloc[-1]) \n",
    "    data['Volume'] = pd.to_numeric(data['Volume'], errors='coerce')\n",
    "    adj_volatility.append((data['Volume'].ewm(span=7, adjust=False).mean())[-1]) #Volume media 7dias\n",
    "    #Calculado volume medio, atribuindo maior peso aos valores mais recentes\n",
    "    adj_volatility.append(data['price_ch'].iloc[-1])\n",
    "    data.rename(columns={'Close': f'Close_{symbol}', 'Volume': f'Volume_{symbol}',\n",
    "                         'price_ch' : f'price_ch_{symbol}'}, inplace= True)\n",
    "    \n",
    "    adj_lista.append(adj_volatility)\n",
    "    listadf.append(data)\n",
    "    \n",
    "    adj_volatility = []"
   ]
  },
  {
   "cell_type": "code",
   "execution_count": null,
   "id": "798bffec",
   "metadata": {},
   "outputs": [],
   "source": [
    "df=  reduce(lambda  left,right: pd.merge(left,right,on=['Date'], how='outer'), listadf)\n",
    "prices_changes = df.filter(regex='price_ch_')\n",
    "prices_changes = prices_changes*100\n",
    "prices_changes"
   ]
  },
  {
   "cell_type": "code",
   "execution_count": null,
   "id": "263c3405",
   "metadata": {},
   "outputs": [],
   "source": [
    "#Filtrando alterações de volume e volatilidade ajustada pela mediana\n",
    "adjdf= pd.DataFrame(adj_lista, columns=['symbol', 'adj', 'Volume', 'price_ch'])\n",
    "adj = adjdf[(adjdf['Volume'] > adjdf['Volume'].median()) & (adjdf['adj'] > adjdf['adj'].median())]\n",
    "adj\n"
   ]
  },
  {
   "cell_type": "code",
   "execution_count": null,
   "id": "eeb4567c",
   "metadata": {},
   "outputs": [],
   "source": [
    "adjdf"
   ]
  },
  {
   "cell_type": "markdown",
   "id": "46d666a5",
   "metadata": {},
   "source": [
    "## Volatilidade Ajustada Vs Volume - Pares USDT"
   ]
  },
  {
   "cell_type": "code",
   "execution_count": null,
   "id": "436a6db9",
   "metadata": {
    "scrolled": false
   },
   "outputs": [],
   "source": [
    "z = np.random.rand(100)\n",
    "data = [go.Scatter(x=adj['Volume'], y=adj['adj'], text=adj['symbol'], mode='markers',  \n",
    "                   marker=dict( color=z, colorscale='Viridis'))]\n",
    "\n",
    "layout = go.Layout(title='Volatilidade Ajustada vs Volume',\n",
    "                   xaxis=dict(title='Volume 7D'),\n",
    "                   yaxis=dict(title='Volatilidade Ajustada (Método Desvio Padrão 30 períodos)'))\n",
    "\n",
    "fig = go.Figure(data=data, layout=layout)\n",
    "fig.show()\n"
   ]
  },
  {
   "cell_type": "code",
   "execution_count": null,
   "id": "e47a2d87",
   "metadata": {
    "scrolled": true
   },
   "outputs": [],
   "source": [
    "#Para facilitar a visualizacao dos ativos, criou-se um modelo de clusterizacao com base na volatilidade e alteracao de preco (d-1)\n",
    "\n",
    "# Selecionando as colunas de interesse\n",
    "X = adj[[\"adj\", \"price_ch\"]]\n",
    "\n",
    "# Definindo o número de clusters desejado\n",
    "n_clusters = 4\n",
    "\n",
    "# Instanciando o modelo k-means\n",
    "kmeans = KMeans(n_clusters=n_clusters, random_state=42)\n",
    "\n",
    "# Treinando o modelo\n",
    "kmeans.fit(X)\n",
    "\n",
    "# Visualizando as classes atribuídas pelo modelo\n",
    "labels = kmeans.labels_\n",
    "\n",
    "adj['cluster'] = labels\n",
    "\n",
    "# Plotando o gráfico com as classes atribuídas pelo modelo\n",
    "plt.scatter(X.iloc[:, 0], X.iloc[:, 1], c=labels)\n",
    "plt.xlabel(\"Volatility\")\n",
    "plt.ylabel(\"Pct_change\")\n",
    "plt.show()"
   ]
  },
  {
   "cell_type": "code",
   "execution_count": null,
   "id": "cffea28c",
   "metadata": {},
   "outputs": [],
   "source": [
    "for cluster in  adj['cluster'].unique():\n",
    "    adj_cluster = adj[(adj['cluster']== cluster)]\n",
    "    adj_cluster = adj_cluster.sort_values('adj')\n",
    "    langs = round(adj_cluster['adj'], 1), adj_cluster['symbol']\n",
    "    price_ch = round(adj_cluster['price_ch']*100, 2)\n",
    "    data = [go.Bar(\n",
    "       x = langs,\n",
    "       y = price_ch\n",
    "                )]\n",
    "    layout = go.Layout(title=f'Ativo, Volatilidade Ajustada vs Alteração de Preços(D-1), CLUSTER: {cluster}',\n",
    "                   xaxis=dict(title='Ativo e Volatilidade Ajustada'),\n",
    "                   yaxis=dict(title='Alteração de preço'))\n",
    "\n",
    "    fig = go.Figure(data=data, layout=layout)\n",
    "    fig.show()"
   ]
  },
  {
   "cell_type": "markdown",
   "id": "dd6e8ead",
   "metadata": {},
   "source": [
    "## Matrix de correlação quanto a paridade de alteração de preco em relacao ao BTC\n"
   ]
  },
  {
   "cell_type": "code",
   "execution_count": null,
   "id": "8e82b523",
   "metadata": {
    "scrolled": true
   },
   "outputs": [],
   "source": [
    "#Filtrando ativos alavancados e derivativos\n",
    "\n",
    "ativos = prices_changes.loc[:, ~prices_changes.columns.str.contains(\"DOWN\") & \n",
    "                            ~prices_changes.columns.str.contains(\"UP\")]\n",
    "\n",
    "\n",
    "# calcular a correlação entre cada ativo e o BTC\n",
    "btc_corr = ativos.drop('price_ch_BTCUSDT', axis=1).corrwith(ativos['price_ch_BTCUSDT'], axis=0)\n",
    "df_corr = pd.DataFrame(btc_corr, columns=['corr'])\n",
    "df_corr.sort_values('corr', inplace=True)\n",
    "#LISTANDO ATIVOS QUE TEM COMPORTAMENTO INVERSO AO BTC\n",
    "df_corr[:30]"
   ]
  },
  {
   "cell_type": "code",
   "execution_count": null,
   "id": "7394dc3f",
   "metadata": {},
   "outputs": [],
   "source": [
    "df_corr.sort_values('corr', ascending=False).iloc[:20]"
   ]
  },
  {
   "cell_type": "markdown",
   "id": "a83996cc",
   "metadata": {},
   "source": [
    "## Variação de preço em relação a D-1(%)"
   ]
  },
  {
   "cell_type": "code",
   "execution_count": null,
   "id": "cc087a1d",
   "metadata": {},
   "outputs": [],
   "source": [
    "\n",
    "# Criando os dados\n",
    "data = dict(\n",
    "    type='treemap',\n",
    "    labels= prices_changes.columns.tolist() + (prices_changes.iloc[-1,:].tolist()),\n",
    "    parents=['', '', '', '', '', '', '', '', '', '', '', '', '', '', '', '', '', '', '', '', '', '', '', '', \n",
    "            '', '', '', '', '', '', '', '', '', '', '', '', '', '', '', '', '', '', '', '', '', '', '', '',\n",
    "            '', '', '', '', '', '', '', '', '', '', '', '', '', '', '', '', '', '', '', '', '', '', '', '', \n",
    "            '', '', '', '', '', '', '', '', '', '', '', '', '', '', '', '', '', '', '', '', '', '', '', '', \n",
    "             '', '', '', '', '', '', '', '', '', '', '', '', '', '', '', '', '', '', '', '', '', '', '', '',\n",
    "             '', '', '', '', '', '', '', '', '', '', '', '', '', '', '', '', '', '', '', '', '', '', '', '',\n",
    "             '', '', '', '', '', \n",
    "             '', '', '', '', '', '' ],\n",
    "    values= prices_changes.iloc[-1,:].tolist(),\n",
    "    branchvalues='total'\n",
    ")\n",
    "\n",
    "# Criando o gráfico\n",
    "fig = go.Figure(data=[data])\n",
    "\n",
    "\n",
    "# Exibindo o gráfico\n",
    "fig.show()"
   ]
  },
  {
   "cell_type": "code",
   "execution_count": null,
   "id": "b107a289",
   "metadata": {},
   "outputs": [],
   "source": [
    "def calculo_volume(symbol):\n",
    "    timestamp = client._get_earliest_valid_timestamp(symbol = symbol, interval = \"1d\")\n",
    "    pd.to_datetime(timestamp, unit = \"ms\")\n",
    "    bars= client.get_historical_klines(symbol = symbol, interval = \"1d\", start_str = timestamp, limit = 1000)\n",
    "    bars\n",
    "    df = pd.DataFrame(bars)\n",
    "    df[\"Date\"] = pd.to_datetime(df.iloc[:,0], unit = \"ms\")\n",
    "    df.columns = [\"Open Time\", \"Open\", \"High\", \"Low\", \"Close\", \"Volume\", \"Clos Time\", \"Quote Asset Volume\", \"Number of Trade\", \"Taker Buy Base Asset Volume\", \"Taker Buy Quote Asset Volume\", \"Ignore\", \"Date\"]\n",
    "    data = df [[\"Date\", \"Close\", \"Volume\", \"Taker Buy Quote Asset Volume\", \"Taker Buy Base Asset Volume\",\"High\", \"Low\"]].copy()\n",
    "    data.set_index(\"Date\", inplace = True)\n",
    "    for column in data.columns: data[column] = pd.to_numeric(data[column], errors = \"coerce\")\n",
    "    data['sma_30_Quote'] = (data[\"Taker Buy Quote Asset Volume\"] * data['Close']).rolling(window=30).mean()\n",
    "    data['sma_30_Base'] = (data[\"Taker Buy Base Asset Volume\"] * data['Close']).rolling(window=30).mean()\n",
    "    data[\"vol_ch\"] = np.log(data.Volume.div(data.Volume.shift(1)))\n",
    "    data[\"price_ch\"] = np.log(data.Volume.div(data.Close.shift(1)))\n",
    "    data['volatility'] = data['Close'].pct_change().std()\n",
    "    return data"
   ]
  },
  {
   "cell_type": "code",
   "execution_count": null,
   "id": "2401235e",
   "metadata": {},
   "outputs": [],
   "source": [
    "symbol= 'BTCUSDT'\n",
    "data = calculo_volume(symbol)\n",
    "\n",
    "\n",
    "data"
   ]
  },
  {
   "cell_type": "markdown",
   "id": "a3f8799d",
   "metadata": {},
   "source": [
    "## Relação preço  vs volume de compra  (USD)"
   ]
  },
  {
   "cell_type": "code",
   "execution_count": null,
   "id": "8bc7ada8",
   "metadata": {
    "scrolled": true
   },
   "outputs": [],
   "source": [
    "\n",
    "fig = go.Figure()\n",
    "\n",
    "# Adicionando dados ao gráfico\n",
    "fig.add_trace(go.Scatter(x=data.index, y=data['Close'], name=f'Preço {symbol} USD'))\n",
    "fig.add_trace(go.Scatter(x=data.index, y=data['sma_30_Quote'], name=f'Volume de Compra Bid price {symbol} (SMA 30 )', yaxis='y2'))\n",
    "\n",
    "# Configurando o segundo eixo y\n",
    "fig.update_layout(yaxis2=dict(title='Vol. Compra - Ordens Limit (SMA 30 )', overlaying='y', side='right'))\n",
    "\n",
    "# Mostrando o gráfico\n",
    "fig.show()"
   ]
  },
  {
   "cell_type": "code",
   "execution_count": null,
   "id": "c7b6d448",
   "metadata": {
    "scrolled": false
   },
   "outputs": [],
   "source": [
    "fig = go.Figure()\n",
    "\n",
    "# Adicionando dados ao gráfico\n",
    "fig.add_trace(go.Scatter(x=data.index, y=data['Close'], name=f'Preço {symbol} USD'))\n",
    "fig.add_trace(go.Scatter(x=data.index, y=data['sma_30_Base'], name='Volume de Compra a Mercado(SMA 30 dias)', yaxis='y2'))\n",
    "\n",
    "# Configurando o segundo eixo y\n",
    "fig.update_layout(yaxis2=dict(title='Vol. Compra - Ordes Disparadas a Mercado (SMA 30 dias)', overlaying='y', side='right'))\n",
    "\n",
    "# Mostrando o gráfico\n",
    "fig.show()"
   ]
  },
  {
   "cell_type": "markdown",
   "id": "bbfb6db8",
   "metadata": {},
   "source": [
    "## Retornos BTCUSD vs Principais índices (normalizado)"
   ]
  },
  {
   "cell_type": "code",
   "execution_count": null,
   "id": "dc911fa2",
   "metadata": {
    "scrolled": true
   },
   "outputs": [],
   "source": [
    "\n",
    "def normalization(symbol, start, end):\n",
    "    df = yf.download(symbol, start, end)\n",
    "    close = df.Close.copy().sort_index()\n",
    "    close.index = close.index.strftime('%d/%m/%Y')\n",
    "    close_norm = close.copy()\n",
    "    for i in close.columns:\n",
    "           close_norm[i] = (close[i]/close[i].dropna().iloc[0]).mul(100)\n",
    "    close_norm = close_norm.groupby(level=0).sum().replace(0, np.nan)\n",
    "    #close_norm = pd.to_datetime(close_norm, '%d/%m/%Y')\n",
    "    close_norm.index = pd.to_datetime(close_norm.index, dayfirst=True)\n",
    "    close_norm = close_norm.sort_index()\n",
    "    return close_norm\n",
    "\n",
    "\n"
   ]
  },
  {
   "cell_type": "code",
   "execution_count": null,
   "id": "b16dd125",
   "metadata": {},
   "outputs": [],
   "source": [
    "import datetime as dt\n",
    "start = \"2023-01-01\"\n",
    "end = dt.date.today()\n",
    "symbol = ['^GSPC', \"^DJI\", \"^IXIC\", '^HSI', '^KS11', \"BTC-USD\"]\n",
    "close_norm= normalization(symbol, start, end)\n",
    "dict_label = {'BTC-USD':'BTC', '^DJI': 'Dow Jones Industrial Average', '^GSPC':'S&P 500', '^HSI':'HANG SENG INDEX',\n",
    "              '^IXIC': 'Índice Nasdaq', '^KS11': 'KOSPI Composite Index' }\n",
    "\n",
    "\n",
    "close_norm"
   ]
  },
  {
   "cell_type": "markdown",
   "id": "c6f59d32",
   "metadata": {},
   "source": [
    "### ^IXIC - Índice Nasdaq\n",
    "### ^DJI -  Dow Jones Industrial Average\n",
    "### ^GSPC - S&P 500\n",
    "### ^HSI -  HANG SENG INDEX (Hong Kong)\n",
    "### ^KS11 - KOSPI Composite Index  (Coreia do Sul)"
   ]
  },
  {
   "cell_type": "code",
   "execution_count": null,
   "id": "cddff273",
   "metadata": {},
   "outputs": [],
   "source": [
    "  \n",
    "close_norm.dropna().plot(figsize = (15, 8), fontsize = 13, logy = False)\n",
    "\n",
    "\n",
    "plt.legend(dict_label, fontsize = 13)\n",
    "plt.show()"
   ]
  }
 ],
 "metadata": {
  "kernelspec": {
   "display_name": "Python 3 (ipykernel)",
   "language": "python",
   "name": "python3"
  },
  "language_info": {
   "codemirror_mode": {
    "name": "ipython",
    "version": 3
   },
   "file_extension": ".py",
   "mimetype": "text/x-python",
   "name": "python",
   "nbconvert_exporter": "python",
   "pygments_lexer": "ipython3",
   "version": "3.9.16"
  },
  "widgets": {
   "application/vnd.jupyter.widget-state+json": {
    "state": {},
    "version_major": 2,
    "version_minor": 0
   }
  }
 },
 "nbformat": 4,
 "nbformat_minor": 5
}
